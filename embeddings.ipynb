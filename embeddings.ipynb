{
 "cells": [
  {
   "cell_type": "code",
   "execution_count": 9,
   "id": "7e63fdda-0db2-4ea9-8e65-4fca02762410",
   "metadata": {},
   "outputs": [],
   "source": [
    "import requests\n",
    "from requests.structures import CaseInsensitiveDict\n",
    "\n",
    "import json\n",
    "import time\n",
    "\n",
    "import pandas\n",
    "import numpy\n",
    "\n",
    "import tensorflow as tf\n",
    "\n",
    "from keras.layers import Input, Embedding, Dot, Reshape, Dense\n",
    "from keras.models import Model"
   ]
  },
  {
   "cell_type": "code",
   "execution_count": 57,
   "id": "8091452c-8b36-49f2-8bd3-46fe4846206b",
   "metadata": {},
   "outputs": [
    {
     "name": "stdout",
     "output_type": "stream",
     "text": [
      "Model: \"model_7\"\n",
      "__________________________________________________________________________________________________\n",
      " Layer (type)                   Output Shape         Param #     Connected to                     \n",
      "==================================================================================================\n",
      " data (InputLayer)              [(None, 1)]          0           []                               \n",
      "                                                                                                  \n",
      " anime_embedding (Embedding)    (None, 1, 50)        150000      ['data[0][0]']                   \n",
      "                                                                                                  \n",
      " tf.slice_23 (TFOpLambda)       (None, 1, 50)        0           ['anime_embedding[0][0]']        \n",
      "                                                                                                  \n",
      " tf.slice_24 (TFOpLambda)       (None, 1, 50)        0           ['anime_embedding[0][0]']        \n",
      "                                                                                                  \n",
      " tf.reshape_20 (TFOpLambda)     (None, 50)           0           ['tf.slice_23[0][0]']            \n",
      "                                                                                                  \n",
      " tf.reshape_21 (TFOpLambda)     (None, 50)           0           ['tf.slice_24[0][0]']            \n",
      "                                                                                                  \n",
      " tf.math.multiply_10 (TFOpLambd  (None, 50)          0           ['tf.reshape_20[0][0]',          \n",
      " a)                                                               'tf.reshape_21[0][0]']          \n",
      "                                                                                                  \n",
      " label (InputLayer)             [(None, 1)]          0           []                               \n",
      "                                                                                                  \n",
      " tf.math.reduce_sum_10 (TFOpLam  (None, 1)           0           ['tf.math.multiply_10[0][0]']    \n",
      " bda)                                                                                             \n",
      "                                                                                                  \n",
      "==================================================================================================\n",
      "Total params: 150,000\n",
      "Trainable params: 150,000\n",
      "Non-trainable params: 0\n",
      "__________________________________________________________________________________________________\n"
     ]
    }
   ],
   "source": [
    "def neuralNetModel(nAnime = 3000, nDimEmbedding = 50):\n",
    "    X = Input(name = 'data', shape = [1])\n",
    "    y = Input(name = 'label', shape = [1])\n",
    "    \n",
    "    # Embedding the book (shape will be (None, 1, 50))\n",
    "    anime_embedding = Embedding(name = \"anime_embedding\", input_dim = nAnime, output_dim = nDimEmbedding)(X)\n",
    "    \n",
    "    animeEmbed1 = tf.slice(anime_embedding, [0, 0, 0], [-1, 1, nDimEmbedding], name = \"animeEmbed1\")\n",
    "    animeEmbed2 = tf.slice(anime_embedding, [0, 1, 0], [-1, 1, nDimEmbedding], name = \"animeEmbed2\")\n",
    "    \n",
    "    reshapedAnime1 = tf.reshape(animeEmbed1, [-1, nDimEmbedding], name = \"reshape1\")\n",
    "    reshapedAnime2 = tf.reshape(animeEmbed2, [-1, nDimEmbedding], name = \"reshape2\")\n",
    "    \n",
    "    scalarProdAngle = tf.math.reduce_sum(reshapedAnime1 * reshapedAnime2, axis = 1, keepdims = True, name = \"scalar_product\")\n",
    "    \n",
    "    model = Model(inputs = [X, y], outputs = scalarProdAngle)\n",
    "    model.compile(optimizer = 'Adam', loss = 'mse')\n",
    "    \n",
    "    return model\n",
    "\n",
    "model = neuralNetModel()\n",
    "model.summary()"
   ]
  },
  {
   "cell_type": "code",
   "execution_count": null,
   "id": "63e10982-a957-460e-bf2d-3daca750ba64",
   "metadata": {},
   "outputs": [],
   "source": []
  }
 ],
 "metadata": {
  "kernelspec": {
   "display_name": "Python 3 (ipykernel)",
   "language": "python",
   "name": "python3"
  },
  "language_info": {
   "codemirror_mode": {
    "name": "ipython",
    "version": 3
   },
   "file_extension": ".py",
   "mimetype": "text/x-python",
   "name": "python",
   "nbconvert_exporter": "python",
   "pygments_lexer": "ipython3",
   "version": "3.9.10"
  }
 },
 "nbformat": 4,
 "nbformat_minor": 5
}
