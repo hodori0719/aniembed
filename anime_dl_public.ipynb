{
 "cells": [
  {
   "cell_type": "code",
   "execution_count": 89,
   "id": "7e63fdda-0db2-4ea9-8e65-4fca02762410",
   "metadata": {},
   "outputs": [],
   "source": [
    "import requests\n",
    "from requests.structures import CaseInsensitiveDict\n",
    "\n",
    "import json\n",
    "import time"
   ]
  },
  {
   "cell_type": "code",
   "execution_count": 102,
   "id": "705aac03-c8cd-4bb1-8b69-dcde15a3bdf3",
   "metadata": {},
   "outputs": [],
   "source": [
    "# API auth info. Note the client-id is private, and the code will not work without your own\n",
    "headers = CaseInsensitiveDict()\n",
    "headers[\"X-MAL-CLIENT-ID\"] = \"2d462efa4d6eb5627c36ab1919bb39b9\"\n",
    "\n",
    "# API call settings\n",
    "URL_ANIME_INFO = \"https://api.myanimelist.net/v2/anime/ranking?ranking_type=bypopularity\"\n",
    "# The MAL API limits the number of anime returned in one call to 500\n",
    "LIMIT = \"&limit=500\"\n",
    "OFFSET = \"&offset=\"\n",
    "# The id, title, and main_picture fields are included in calls by default.\n",
    "FIELDS = \"&fields=popularity,mean,rating,studios\"\n",
    "# The number of pages of popular anime to retrieve; with top_pages = 10, this retrieves the top 5000 popular anime\n",
    "TOP_PAGES = 6"
   ]
  },
  {
   "cell_type": "code",
   "execution_count": 94,
   "id": "56eb63f2-ea0b-4fda-9319-9a9a476315d8",
   "metadata": {},
   "outputs": [],
   "source": [
    "animes = {}\n",
    "for i in range(TOP_PAGES):\n",
    "    response = requests.get(URL_ANIME_INFO + LIMIT + OFFSET + str(500 * i) + FIELDS, headers = headers)\n",
    "    responsedict = json.loads(response.text)\n",
    "    for j in range(500):\n",
    "        animes[responsedict['data'][j]['node']['id']] = responsedict['data'][j]['node']\n",
    "    time.sleep(2) # The MAL API has low DOS tolerance"
   ]
  },
  {
   "cell_type": "code",
   "execution_count": 103,
   "id": "7ff70b00-66dc-4f1d-b6bb-943326ab9681",
   "metadata": {},
   "outputs": [],
   "source": [
    "with open(\"animes.json\", 'w') as outfile:\n",
    "    json.dump(animes, outfile)"
   ]
  }
 ],
 "metadata": {
  "kernelspec": {
   "display_name": "Python 3 (ipykernel)",
   "language": "python",
   "name": "python3"
  },
  "language_info": {
   "codemirror_mode": {
    "name": "ipython",
    "version": 3
   },
   "file_extension": ".py",
   "mimetype": "text/x-python",
   "name": "python",
   "nbconvert_exporter": "python",
   "pygments_lexer": "ipython3",
   "version": "3.9.10"
  }
 },
 "nbformat": 4,
 "nbformat_minor": 5
}
